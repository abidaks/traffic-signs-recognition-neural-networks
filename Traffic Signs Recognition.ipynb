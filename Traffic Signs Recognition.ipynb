{
  "nbformat": 4,
  "nbformat_minor": 0,
  "metadata": {
    "kernelspec": {
      "name": "python3",
      "display_name": "Python 3"
    },
    "language_info": {
      "codemirror_mode": {
        "name": "ipython",
        "version": 3
      },
      "file_extension": ".py",
      "mimetype": "text/x-python",
      "name": "python",
      "nbconvert_exporter": "python",
      "pygments_lexer": "ipython3",
      "version": "3.7.4"
    },
    "colab": {
      "name": "Traffic Signs Recognition.ipynb",
      "provenance": [],
      "collapsed_sections": []
    },
    "accelerator": "GPU"
  },
  "cells": [
    {
      "cell_type": "code",
      "metadata": {
        "id": "8YzW7s58qwVW",
        "colab_type": "code",
        "colab": {}
      },
      "source": [
        "!git clone https://bitbucket.org/jadslim/german-traffic-signs"
      ],
      "execution_count": 0,
      "outputs": []
    },
    {
      "cell_type": "code",
      "metadata": {
        "id": "xV_IgfA4qwVh",
        "colab_type": "code",
        "colab": {}
      },
      "source": [
        "!ls german-traffic-signs"
      ],
      "execution_count": 0,
      "outputs": []
    },
    {
      "cell_type": "code",
      "metadata": {
        "id": "yR5xRfwcqwVq",
        "colab_type": "code",
        "colab": {}
      },
      "source": [
        "import numpy as np\n",
        "import matplotlib.pyplot as plt\n",
        "import keras\n",
        "from keras.models import Sequential\n",
        "from keras.layers import Dense, Flatten, Dropout\n",
        "from keras.layers.convolutional import Conv2D, MaxPooling2D\n",
        "from keras.optimizers import Adam\n",
        "from keras.utils.np_utils import to_categorical\n",
        "from keras.preprocessing.image import ImageDataGenerator\n",
        "import random\n",
        "import pickle\n",
        "import pandas as pd\n",
        "import cv2"
      ],
      "execution_count": 0,
      "outputs": []
    },
    {
      "cell_type": "code",
      "metadata": {
        "id": "cqcF-eXxqwVw",
        "colab_type": "code",
        "colab": {}
      },
      "source": [
        "np.random.seed(0)"
      ],
      "execution_count": 0,
      "outputs": []
    },
    {
      "cell_type": "code",
      "metadata": {
        "id": "or8SiyviqwV4",
        "colab_type": "code",
        "colab": {}
      },
      "source": [
        "with open('german-traffic-signs/train.p', 'rb') as f:\n",
        "    train_data = pickle.load(f)\n",
        "with open('german-traffic-signs/valid.p', 'rb') as f:\n",
        "    val_data = pickle.load(f)\n",
        "with open('german-traffic-signs/test.p', 'rb') as f:\n",
        "    test_data = pickle.load(f)\n",
        "\n",
        "print(type(train_data))\n",
        "\n",
        "xtrain_data, ytrain_data = train_data['features'], train_data['labels']\n",
        "xval_data, yval_data = val_data['features'], val_data['labels']\n",
        "xtest_data, ytest_data = test_data['features'], test_data['labels']\n"
      ],
      "execution_count": 0,
      "outputs": []
    },
    {
      "cell_type": "code",
      "metadata": {
        "id": "R8zjhskoqwV-",
        "colab_type": "code",
        "colab": {}
      },
      "source": [
        "print(xtrain_data.shape)\n",
        "print(xval_data.shape)\n",
        "print(xtest_data.shape)"
      ],
      "execution_count": 0,
      "outputs": []
    },
    {
      "cell_type": "code",
      "metadata": {
        "id": "-1EsgXgFqwWH",
        "colab_type": "code",
        "colab": {}
      },
      "source": [
        "assert(xtrain_data.shape[0] == ytrain_data.shape[0]), \"The number of images is not equal to number of labels.\"\n",
        "assert(xtest_data.shape[0] == ytest_data.shape[0]), \"The number of images is not equal to number of labels.\"\n",
        "assert(xval_data.shape[0] == yval_data.shape[0]), \"The number of images is not equal to number of labels.\"\n",
        "assert(xtrain_data.shape[1:] == (32,32,3)), \"The dimentions of image is not equal to 32x32\"\n",
        "assert(xtest_data.shape[1:] == (32,32,3)), \"The dimentions of image is not equal to 32x32\"\n",
        "assert(xval_data.shape[1:] == (32,32,3)), \"The dimentions of image is not equal to 32x32\""
      ],
      "execution_count": 0,
      "outputs": []
    },
    {
      "cell_type": "code",
      "metadata": {
        "id": "OpJrbmnPqwWN",
        "colab_type": "code",
        "colab": {}
      },
      "source": [
        "data = pd.read_csv('german-traffic-signs/signnames.csv')\n",
        "num_of_samples = []\n",
        "\n",
        "cols = 5\n",
        "num_classes = 43\n",
        "\n",
        "fig, axs = plt.subplots(nrows=num_classes, ncols = cols, figsize=(5, 50))\n",
        "fig.tight_layout()\n",
        "for i in range(cols):\n",
        "    for j, row in data.iterrows():\n",
        "        x_selected = xtrain_data[ytrain_data == j]\n",
        "        axs[j][i].imshow(x_selected[random.randint(0, len(x_selected - 1)), :, :], cmap=plt.get_cmap(\"gray\"))\n",
        "        axs[j][i].axis(\"off\")\n",
        "        if i == 2:\n",
        "            axs[j][i].set_title(str(j) + \"-\" + row['SignName'])\n",
        "            num_of_samples.append(len(x_selected))"
      ],
      "execution_count": 0,
      "outputs": []
    },
    {
      "cell_type": "code",
      "metadata": {
        "id": "Zb2UYiLFqwWU",
        "colab_type": "code",
        "colab": {}
      },
      "source": [
        "print(num_of_samples)\n",
        "plt.figure(figsize=(12, 4))\n",
        "plt.bar(range(0, num_classes), num_of_samples)\n",
        "plt.title(\"Distribution of the training dataset\")\n",
        "plt.xlabel(\"Class number\")\n",
        "plt.ylabel(\"Number of images\")"
      ],
      "execution_count": 0,
      "outputs": []
    },
    {
      "cell_type": "code",
      "metadata": {
        "id": "MOzV33kbqwWZ",
        "colab_type": "code",
        "colab": {}
      },
      "source": [
        "def preprocess_image(img):\n",
        "    img = cv2.cvtColor(img, cv2.COLOR_BGR2GRAY)\n",
        "    img = cv2.equalizeHist(img)\n",
        "    img = img/255\n",
        "    return img"
      ],
      "execution_count": 0,
      "outputs": []
    },
    {
      "cell_type": "code",
      "metadata": {
        "id": "imvEPWbLqwWg",
        "colab_type": "code",
        "colab": {}
      },
      "source": [
        "xtrain_data = np.array(list(map(preprocess_image, xtrain_data)))\n",
        "xval_data = np.array(list(map(preprocess_image, xval_data)))\n",
        "xtest_data = np.array(list(map(preprocess_image, xtest_data)))"
      ],
      "execution_count": 0,
      "outputs": []
    },
    {
      "cell_type": "code",
      "metadata": {
        "id": "HX2k3wXCqwWl",
        "colab_type": "code",
        "colab": {}
      },
      "source": [
        "xtrain_data = xtrain_data.reshape(xtrain_data.shape[0], 32, 32, 1)\n",
        "xval_data = xval_data.reshape(xval_data.shape[0], 32, 32, 1)\n",
        "xtest_data = xtest_data.reshape(xtest_data.shape[0], 32, 32, 1)"
      ],
      "execution_count": 0,
      "outputs": []
    },
    {
      "cell_type": "code",
      "metadata": {
        "id": "K-a2IlsQ66Bh",
        "colab_type": "code",
        "colab": {}
      },
      "source": [
        "datagen = ImageDataGenerator(\n",
        "                width_shift_range=0.1,\n",
        "                height_shift_range=0.1,\n",
        "                zoom_range=0.2,\n",
        "                shear_range=0.1,\n",
        "                rotation_range=10)\n",
        "\n",
        "datagen.fit(xtrain_data)"
      ],
      "execution_count": 0,
      "outputs": []
    },
    {
      "cell_type": "code",
      "metadata": {
        "id": "fvgdSHt56438",
        "colab_type": "code",
        "colab": {}
      },
      "source": [
        "batches = datagen.flow(xtrain_data, ytrain_data, batch_size=20)\n",
        "xbatch_data, ybatch_data = next(batches)\n",
        "\n",
        "fig1, axs1 = plt.subplots(1, 15, figsize=(20, 5))\n",
        "fig1.tight_layout()\n",
        "for i in range(15):\n",
        "    axs1[i].imshow(xbatch_data[i].reshape(32,32), cmap=plt.get_cmap(\"gray\"))\n",
        "    axs1[i].axis(\"off\")"
      ],
      "execution_count": 0,
      "outputs": []
    },
    {
      "cell_type": "code",
      "metadata": {
        "id": "ZZxgCrn5qwWr",
        "colab_type": "code",
        "colab": {}
      },
      "source": [
        "print(xtrain_data.shape)\n",
        "print(xval_data.shape)\n",
        "print(xtest_data.shape)"
      ],
      "execution_count": 0,
      "outputs": []
    },
    {
      "cell_type": "code",
      "metadata": {
        "id": "tZJYuGM8qwWx",
        "colab_type": "code",
        "colab": {}
      },
      "source": [
        "ytrain_data = to_categorical(ytrain_data, 43) # one hot encoding\n",
        "yval_data = to_categorical(yval_data, 43) # one hot encoding\n",
        "ytest_data = to_categorical(ytest_data, 43) # one hot encoding"
      ],
      "execution_count": 0,
      "outputs": []
    },
    {
      "cell_type": "code",
      "metadata": {
        "id": "9d7z0DfTqwW3",
        "colab_type": "code",
        "colab": {}
      },
      "source": [
        "def lenet_model():\n",
        "    model = Sequential()\n",
        "    model.add(Conv2D(60, (5,5), input_shape=(32,32,1), activation=\"relu\"))\n",
        "    model.add(Conv2D(60, (5,5), activation=\"relu\"))\n",
        "    model.add(MaxPooling2D(pool_size=(2,2)))\n",
        "    \n",
        "    model.add(Conv2D(30, (3,3), activation=\"relu\"))\n",
        "    model.add(Conv2D(30, (3,3), activation=\"relu\"))\n",
        "    model.add(MaxPooling2D(pool_size=(2,2)))\n",
        "    #model.add(Dropout(0.5))\n",
        "    \n",
        "    model.add(Flatten())\n",
        "    model.add(Dense(500, activation=\"relu\"))\n",
        "    model.add(Dropout(0.5))\n",
        "    model.add(Dense(num_classes, activation=\"softmax\"))\n",
        "    model.compile(Adam(lr = 0.001), loss='categorical_crossentropy', metrics=['accuracy'])\n",
        "    return model"
      ],
      "execution_count": 0,
      "outputs": []
    },
    {
      "cell_type": "code",
      "metadata": {
        "id": "OA8T9VRbqwXA",
        "colab_type": "code",
        "colab": {}
      },
      "source": [
        "model = lenet_model()\n",
        "print(model.summary())"
      ],
      "execution_count": 0,
      "outputs": []
    },
    {
      "cell_type": "code",
      "metadata": {
        "id": "IgFD6e81qwXH",
        "colab_type": "code",
        "colab": {}
      },
      "source": [
        "#history = model.fit(xtrain_data, ytrain_data, epochs=10, validation_data=(xval_data, yval_data), \n",
        "#verbose=1, batch_size=400, shuffle=1)\n",
        "history = model.fit_generator(datagen.flow(xtrain_data, ytrain_data, batch_size=50),\n",
        "                              steps_per_epoch=2000, epochs=10, validation_data=(xval_data, yval_data), \n",
        "                              shuffle=1)"
      ],
      "execution_count": 0,
      "outputs": []
    },
    {
      "cell_type": "code",
      "metadata": {
        "id": "KzmkKM6fqwXP",
        "colab_type": "code",
        "colab": {}
      },
      "source": [
        "plt.plot(history.history['loss'])\n",
        "plt.plot(history.history['val_loss'])\n",
        "plt.legend(['loss', 'val_loss'])\n",
        "plt.ylabel('loss')\n",
        "plt.xlabel('epoch')"
      ],
      "execution_count": 0,
      "outputs": []
    },
    {
      "cell_type": "code",
      "metadata": {
        "id": "_RV2k0KJqwXU",
        "colab_type": "code",
        "colab": {}
      },
      "source": [
        "plt.plot(history.history['acc'])\n",
        "plt.plot(history.history['val_acc'])\n",
        "plt.legend(['accuracy', 'val_accuracy'])\n",
        "plt.ylabel('accuracy')\n",
        "plt.xlabel('epoch')"
      ],
      "execution_count": 0,
      "outputs": []
    },
    {
      "cell_type": "code",
      "metadata": {
        "id": "acmpLHGhqwXb",
        "colab_type": "code",
        "colab": {}
      },
      "source": [
        "score = model.evaluate(xtest_data, ytest_data)\n",
        "print(score)\n",
        "print(\"Test score\", score[0])\n",
        "print(\"Test accuracy\", score[1])"
      ],
      "execution_count": 0,
      "outputs": []
    },
    {
      "cell_type": "code",
      "metadata": {
        "id": "bIxvZhB9qwXh",
        "colab_type": "code",
        "colab": {}
      },
      "source": [
        "#fetch image\n",
        "  \n",
        "import requests\n",
        "from PIL import Image\n",
        "#https://c8.alamy.com/comp/G667W0/road-sign-speed-limit-30-kmh-zone-passau-bavaria-germany-G667W0.jpg\n",
        "\n",
        "#https://c8.alamy.com/comp/A0RX23/cars-and-automobiles-must-turn-left-ahead-sign-A0RX23.jpg\n",
        "\n",
        "#https://previews.123rf.com/images/bwylezich/bwylezich1608/bwylezich160800375/64914157-german-road-sign-slippery-road.jpg\n",
        "\n",
        "#https://previews.123rf.com/images/pejo/pejo0907/pejo090700003/5155701-german-traffic-sign-no-205-give-way.jpg\n",
        "\n",
        "#https://c8.alamy.com/comp/J2MRAJ/german-road-sign-bicycles-crossing-J2MRAJ.jpg\n",
        "\n",
        "\n",
        "url = 'https://c8.alamy.com/comp/A0RX23/cars-and-automobiles-must-turn-left-ahead-sign-A0RX23.jpg'\n",
        "r = requests.get(url, stream=True)\n",
        "img = Image.open(r.raw)\n",
        "plt.imshow(img, cmap=plt.get_cmap('gray'))\n"
      ],
      "execution_count": 0,
      "outputs": []
    },
    {
      "cell_type": "code",
      "metadata": {
        "id": "WdHqe3LpzmZN",
        "colab_type": "code",
        "colab": {}
      },
      "source": [
        "#Preprocess image\n",
        "  \n",
        "img = np.asarray(img)\n",
        "img = cv2.resize(img, (32, 32))\n",
        "img = preprocess_image(img)\n",
        "plt.imshow(img, cmap = plt.get_cmap('gray'))\n",
        "print(img.shape)\n",
        "  \n",
        "#Reshape reshape\n",
        "  \n",
        "img = img.reshape(1, 32, 32, 1)\n",
        "  \n",
        "#Test image\n",
        "print(\"predicted sign: \"+ str(model.predict_classes(img)))"
      ],
      "execution_count": 0,
      "outputs": []
    }
  ]
}